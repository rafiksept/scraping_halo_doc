{
 "cells": [
  {
   "cell_type": "code",
   "execution_count": 28,
   "metadata": {},
   "outputs": [
    {
     "name": "stderr",
     "output_type": "stream",
     "text": [
      "C:\\Users\\RAFIK\\AppData\\Local\\Temp\\ipykernel_16112\\4240227435.py:32: DeprecationWarning: [Deprecated][in version 6.0.0]: Method signature's arguments 'range_name' and 'values' will change their order. We recommend using named arguments for minimal impact. In addition, the argument 'values' will be mandatory of type: 'List[List]'. (ex) Worksheet.update(values = [[]], range_name=) \n",
      "  sh.update(f\"a{last_update}\", data[\"result\"][j][\"name\"])\n",
      "C:\\Users\\RAFIK\\AppData\\Local\\Temp\\ipykernel_16112\\4240227435.py:33: DeprecationWarning: [Deprecated][in version 6.0.0]: Method signature's arguments 'range_name' and 'values' will change their order. We recommend using named arguments for minimal impact. In addition, the argument 'values' will be mandatory of type: 'List[List]'. (ex) Worksheet.update(values = [[]], range_name=) \n",
      "  sh.update(f\"b{last_update}\", category)\n"
     ]
    }
   ],
   "source": [
    "import requests\n",
    "import json\n",
    "import gspread\n",
    "\n",
    "gc = gspread.service_account(filename=\"scraping-halo-doc-46727133631e.json\")\n",
    "sh = gc.open(\"data nama halodoc\").sheet1\n",
    "\n",
    "\n",
    "last_update = 0\n",
    "\n",
    "categories = [\"disfungsi-ereksi\", \"hormon-wanita\", \"disfungsi-ereksi\",\n",
    "              \"kondom-dan-pelumas-1\", \"perawatan-kewanitaan-2\", \"supplement-pria\",\n",
    "              \"test-pack\",\"orang-dewasa\", \"lansia\", \"susu-khusus-1\",\"susu-medis-khusus\",\n",
    "              \"susu-formula-bayi\", \"susu-formula-anak\",\"obat-12\", \"inhaler\", \"perangkat-dan-aksesoris\",\n",
    "              \"kaleng-oksigen-1\", \"perlengkapan-mandi\", \"perawatan-kulit-1\", \"krim-ruam\", \"lainnya-22\", \"telon-dan-kayu-putih\",\n",
    "              \"popok\",\"tisu-basah\",\"makanan-dan-snack\",\"peralatan-makan\",\"susu-2\",\"susu-khusus\",\"plester-penurun-panas\",\n",
    "              \"dekongestan-dan-minyak\", \"hidung-tersumbat\",\"perawatan-ibu\",\"nutrisi-bersalin\", \"perlengkapan-menyusui\",\n",
    "              \"perlengkapan-pembersih\", \"sanitizer-dan-antiseptik-1\", \"lainnya-14\", \"batuk-dan-flu-5\", \"nasal-spray-dan-dekongestan\",\n",
    "              \"balsem-dan-minyak-esensial\", \"untuk-bayi-dan-anak\", \"perawatan-herbal\" , \"pereda-demam-dan-nyeri\",\"untuk-bayi-dan-anak-1\",\n",
    "              \"perawatan-herbal\", \"asam-lambung-dan-gerd\",\"mual-dan-muntah\", \"diare-1\", \"infeksi-cacing\", \"sembelit-dan-wasir\",\n",
    "              \"obat-alergi\", \"pereda-gatal\",\"sariawan-dan-herpes-mulut\",\"obat-tetes-telinga\",\"obat-kumur-antiseptik\",\"kebersihan-hidung\",\n",
    "              \"pelega-tenggorokan\",\"gatal-kering-dan-merah\",\"lainnya-1\",\"jerawat\",\"dermatitis-dan-eksim\",\"infeksi-kulit\",\n",
    "              \"lainnya-2\",\"antibiotik-3\", \"antijamur\",\"antivirus\", \"tulang-dan-osteoporosis\", \"asam-urat-dan-radang-sendi\",\n",
    "              \"relaksan-otot\", \"balsem-dan-minyak\",\"kandung-kemih-dan-ginjal\",\"pria\",\"wanita-1\",\"pil-kontrasepsi\",\"lainnya-3\",\n",
    "              \"perawatan-wajah\",\"perawatan-tubuh\", \"perawatan-kulit-berjerawat\",\"perawatan\",\"acne-patch-dan-gel\",\"sun-care\",\n",
    "              \"badan-gigi-rambut\", \"perawatan-kewanitaan-1\",\"deodoran-dan-pewangi\",\"produk-sekali-pakai\", \"lainnya-15\", \"wajah\",\n",
    "              \"bibir\",\"kuku\",\"aksesoris-2\",\"perawatan-wajah-1\",\"perawatan-tubuh-1\",\"perawatan-rambut\",\"deodoran-dan-pewangi-1\",\n",
    "              \"pisau-cukur\",\"lainnya-16\",\"vitamin-a-b-dan-e\",\"vitamin-c\",\"vitamin-d\",\"multivitamin\",\"mineral\",\"imunitas-dan-antioksidan\",\n",
    "              \"kehamilan-dan-menyusui\",\"anemia\",\"menopause\",\"multivitamin-3\",\"imun-booster\",\"anemia-1\",\"penambah-nafsu-makan\",\n",
    "              \"rambut-kulit-dan-kuku\",\"vitamin-e\",\"antioksidan\",\"kesehatan-prostat\",\"vitalitas-dan-stamina\",\"probiotik\",\"enzim-pencernaan\",\n",
    "              \"serat\",\"tulang-dan-gigi\",\"persendian\",\"penurun-berat-badan\",\"penambah-berat-dan-otot\",\"nutrisi-lainnya\",\"snack-sehat\",\n",
    "              \"produk-minuman\",\"minyak-ikan\",\"mata-1\",\"jantung-dan-hati\",\"ginjal-dan-kandung-kemih\",\"otak\",\"obat-herbal\",\"habbatussauda-dan-zaitun\",\n",
    "              \"madu-dan-kurma\",\"lainnya-5\",\"dewasa\",\"anak\",\"pengobatan-covid\",\"suplemen-dan-herbal\",\"masker-dan-pelindung\",\"sanitizer-dan-antiseptik\",\n",
    "              \"alat-tes-mandiri\",\"kaleng-oksigen\",\"termometer\",\"oximeter\",\"asma-2\",\"diabetes-6\",\"penyakit-jantung-1\", \"pelindung\",\"antiseptik-dan-disinfektan\",\n",
    "              \"kesuburan-dan-kehamilan\",\"covid-19-3\",\"lainnya-8\",\"termometer-1\",\"oksimeter\",\"pengukur-tekanan-darah\",\"tes-gula-darah\",\n",
    "              \"timbangan\",\"lainnya-9\",\"jarum-tes\",\"swab-alkohol\",\"jarum-insulin\",\"antiseptik-2\",\"perban\",\"perawatan-luka\",\"pelindung-lutut\",\n",
    "              \"stoking-kompresi\",\"penyangga-tangan\",\"alat-bantu-dengar-2\",\"aksesoris\",\"celana-sunat\",\"urinal\",\"perlak-dan-popok-dewasa\",\n",
    "              \"alat-bantu-mobilitas\",\"lainnya-10\",\"obat\",\"vitamin-dan-herbal\",\"gula-diabetes\",\"nutrisi-diabetes\",\"alat-monitoring-3\",\"lainnya-11\",\n",
    "              \"lanset-jarum-dan-swab\",\"insulin\",\"hipertensi-1\",\"kolesterol\",\"penyakit-jantung\",\"vitamin-dan-herbal-2\",\"makanan-dan-nutrisi\",\n",
    "              \"alat-monitoring-4\",\"lanset-jarum-dan-swab-1\",\"lensa-kontak-minus\",\"lensa-kontak-plano\",\"cairan-lensa-kontak\", \"aksesoris\"\n",
    "\n",
    "              ]\n",
    "\n",
    "\n",
    "for category in categories : \n",
    "    for i in range(1, 100):\n",
    "        url = f'https://magneto.api.halodoc.com/api/v1/buy-medicine/categories/{category}/products?page={i}&size=20'\n",
    "\n",
    "\n",
    "        response = requests.get(url)\n",
    "\n",
    "        if response.status_code == 200:\n",
    "            data = response.json()\n",
    "\n",
    "            if \"result\" in data:\n",
    "                leng_data = len(data[\"result\"])\n",
    "                for j in range(0 , leng_data) :\n",
    "                    last_update = last_update + 1\n",
    "                    sh.update(f\"a{last_update}\", data[\"result\"][j][\"name\"])\n",
    "                    sh.update(f\"b{last_update}\", category)\n",
    "            else :\n",
    "                print(\"tidak ada data\")\n",
    "                break\n"
   ]
  },
  {
   "cell_type": "code",
   "execution_count": null,
   "metadata": {},
   "outputs": [],
   "source": []
  },
  {
   "cell_type": "code",
   "execution_count": null,
   "metadata": {},
   "outputs": [],
   "source": []
  },
  {
   "cell_type": "code",
   "execution_count": null,
   "metadata": {},
   "outputs": [],
   "source": []
  }
 ],
 "metadata": {
  "kernelspec": {
   "display_name": "Python 3",
   "language": "python",
   "name": "python3"
  },
  "language_info": {
   "codemirror_mode": {
    "name": "ipython",
    "version": 3
   },
   "file_extension": ".py",
   "mimetype": "text/x-python",
   "name": "python",
   "nbconvert_exporter": "python",
   "pygments_lexer": "ipython3",
   "version": "3.9.13"
  }
 },
 "nbformat": 4,
 "nbformat_minor": 2
}
